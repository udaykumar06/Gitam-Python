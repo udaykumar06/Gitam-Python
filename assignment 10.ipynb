{
 "cells": [
  {
   "cell_type": "code",
   "execution_count": 1,
   "metadata": {},
   "outputs": [
    {
     "name": "stdout",
     "output_type": "stream",
     "text": [
      "3 2 1 1 0 "
     ]
    }
   ],
   "source": [
    "def reverseFibonacci(n): \n",
    "    a = [0] * n  \n",
    "    a[0] = 0 \n",
    "    a[1] = 1\n",
    "    for i in range(2, n):   \n",
    "      # storing sum in the \n",
    "      # preceding location \n",
    "        a[i] = a[i - 2] + a[i - 1]  \n",
    "    for i in range(n - 1, -1 , -1):   \n",
    "      # printing array in \n",
    "      # reverse order \n",
    "        print(a[i],end=\" \")  \n",
    "      # Driver function \n",
    "n = 5 \n",
    "reverseFibonacci(n)"
   ]
  },
  {
   "cell_type": "code",
   "execution_count": 2,
   "metadata": {},
   "outputs": [
    {
     "name": "stdout",
     "output_type": "stream",
     "text": [
      "89 55 34 21 13 8 5 3 2 1 1 0 "
     ]
    }
   ],
   "source": [
    "def reverseFibonacci(n): \n",
    "    a = [0] * n  \n",
    "    a[0] = 0 \n",
    "    a[1] = 1\n",
    "    for i in range(2, n):   \n",
    "      # storing sum in the \n",
    "      # preceding location \n",
    "        a[i] = a[i - 2] + a[i - 1]  \n",
    "    for i in range(n - 1, -1 , -1):   \n",
    "      # printing array in \n",
    "      # reverse order \n",
    "        print(a[i],end=\" \")  \n",
    "      # Driver function \n",
    "n = 12 \n",
    "reverseFibonacci(n)"
   ]
  },
  {
   "cell_type": "code",
   "execution_count": 3,
   "metadata": {},
   "outputs": [
    {
     "name": "stdout",
     "output_type": "stream",
     "text": [
      "1\n",
      "3\n",
      "9\n",
      "27\n",
      "81\n",
      "243\n",
      "729\n",
      "2187\n",
      "6561\n",
      "19683\n"
     ]
    }
   ],
   "source": [
    "#Series Generations:-  1, 3, 9, 27, 81, ...\n",
    "def threepow(n):\n",
    "    for i in range(n):\n",
    "        k=3**i\n",
    "        print(k)\n",
    "    return\n",
    "threepow(10)"
   ]
  },
  {
   "cell_type": "code",
   "execution_count": 4,
   "metadata": {},
   "outputs": [
    {
     "name": "stdout",
     "output_type": "stream",
     "text": [
      "1\n",
      "2\n",
      "4\n",
      "8\n",
      "16\n",
      "32\n",
      "64\n",
      "128\n",
      "256\n",
      "512\n"
     ]
    }
   ],
   "source": [
    "# Series Generations:-  1, 2, 4, 8, 16, 32, 64, 128, 256, ...\n",
    "def twopow(n):\n",
    "    for i in range(n):\n",
    "        k=2**i\n",
    "        print(k)\n",
    "    return\n",
    "twopow(10)"
   ]
  },
  {
   "cell_type": "code",
   "execution_count": 5,
   "metadata": {},
   "outputs": [
    {
     "name": "stdout",
     "output_type": "stream",
     "text": [
      "enter n value15\n",
      "1 3 8 15 27 50 92 169 311 572 1052 1935 3559 "
     ]
    }
   ],
   "source": [
    "#1 3 8 15 27 50 92 169 311\n",
    "n=int(input(\"enter n value\"))\n",
    "a=1;b=3;c=4\n",
    "print(a,b,end=\" \" )\n",
    "for x in range(4,n):\n",
    "    d=a+b+c\n",
    "    print(d,end=\" \")\n",
    "    a=b;b=c;c=d"
   ]
  },
  {
   "cell_type": "code",
   "execution_count": 6,
   "metadata": {},
   "outputs": [
    {
     "name": "stdout",
     "output_type": "stream",
     "text": [
      "enter n value12\n",
      "15 41 80 132 197 275 366 470 587 717 860 "
     ]
    }
   ],
   "source": [
    "#  2 15 41 80 132 197 275 366 470 587\n",
    "n=int(input(\"enter n value\"))\n",
    "a=2\n",
    "for x in range(1,n):\n",
    "    d=a+(13*x)\n",
    "    print(d,end=\" \")\n",
    "    a=d"
   ]
  },
  {
   "cell_type": "code",
   "execution_count": 7,
   "metadata": {},
   "outputs": [
    {
     "name": "stdout",
     "output_type": "stream",
     "text": [
      "enter n value16\n",
      "1 !+ 2 !+ 3 !+ 4 !+ 5 !+ 6 !+ 7 !+ 8 !+ 9 !+ 10 !+ 11 !+ 12 !+ 13 !+ 14 !+ 15 !+ "
     ]
    }
   ],
   "source": [
    " #1! + 2! + 3! + 4! + 5! + ... + n!\n",
    "n=int(input(\"enter n value\"))\n",
    "for x in range(1,n):\n",
    "    print(x,\"!+\",end=\" \")\n"
   ]
  },
  {
   "cell_type": "code",
   "execution_count": 8,
   "metadata": {},
   "outputs": [
    {
     "name": "stdout",
     "output_type": "stream",
     "text": [
      "morning\n"
     ]
    }
   ],
   "source": [
    "#if two or more longest words are of same length then consider the first one\n",
    "\n",
    "s1 = [\"gitam morning\"]\n",
    "a = \"good\"\n",
    "b = \"morning\"\n",
    "if len(a)>=len(b):\n",
    "   print(\"good\")\n",
    "else:\n",
    "   print(\"morning\")\n"
   ]
  },
  {
   "cell_type": "code",
   "execution_count": null,
   "metadata": {},
   "outputs": [],
   "source": []
  }
 ],
 "metadata": {
  "kernelspec": {
   "display_name": "Python 3",
   "language": "python",
   "name": "python3"
  },
  "language_info": {
   "codemirror_mode": {
    "name": "ipython",
    "version": 3
   },
   "file_extension": ".py",
   "mimetype": "text/x-python",
   "name": "python",
   "nbconvert_exporter": "python",
   "pygments_lexer": "ipython3",
   "version": "3.7.3"
  }
 },
 "nbformat": 4,
 "nbformat_minor": 2
}
